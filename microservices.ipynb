{
 "cells": [
  {
   "cell_type": "code",
   "execution_count": null,
   "metadata": {
    "vscode": {
     "languageId": "plaintext"
    }
   },
   "outputs": [],
   "source": [
    "from flask import Flask, request, jsonify\n",
    "import speech_recognition as sr\n",
    "\n",
    "app = Flask(__name__)\n",
    "\n",
    "@app.route('/transcribe', methods=['POST'])\n",
    "def transcribe():\n",
    "    audio_file = request.json.get('audio_file')\n",
    "    language = request.json.get('language', \"fr-FR\")\n",
    "    recognizer = sr.Recognizer()\n",
    "\n",
    "    try:\n",
    "        with sr.AudioFile(audio_file) as source:\n",
    "            audio = recognizer.record(source)\n",
    "            recognized_text = recognizer.recognize_google(audio, language=language)\n",
    "            return jsonify({\"recognized_text\": recognized_text})\n",
    "    except sr.UnknownValueError:\n",
    "        return jsonify({\"error\": \"Speech not recognized.\"}), 400\n",
    "    except sr.RequestError as e:\n",
    "        return jsonify({\"error\": f\"Speech recognition service error: {e}\"}), 500\n",
    "\n",
    "if __name__ == \"__main__\":\n",
    "    app.run(port=5002)\n"
   ]
  },
  {
   "cell_type": "code",
   "execution_count": null,
   "metadata": {
    "vscode": {
     "languageId": "plaintext"
    }
   },
   "outputs": [],
   "source": [
    "from flask import Flask, request, jsonify\n",
    "import speech_recognition as sr\n",
    "\n",
    "app = Flask(__name__)\n",
    "\n",
    "@app.route('/transcribe', methods=['POST'])\n",
    "def transcribe():\n",
    "    audio_file = request.json.get('audio_file')\n",
    "    language = request.json.get('language', \"fr-FR\")\n",
    "    recognizer = sr.Recognizer()\n",
    "\n",
    "    try:\n",
    "        with sr.AudioFile(audio_file) as source:\n",
    "            audio = recognizer.record(source)\n",
    "            recognized_text = recognizer.recognize_google(audio, language=language)\n",
    "            return jsonify({\"recognized_text\": recognized_text})\n",
    "    except sr.UnknownValueError:\n",
    "        return jsonify({\"error\": \"Speech not recognized.\"}), 400\n",
    "    except sr.RequestError as e:\n",
    "        return jsonify({\"error\": f\"Speech recognition service error: {e}\"}), 500\n",
    "\n",
    "if __name__ == \"__main__\":\n",
    "    app.run(port=5002)\n"
   ]
  },
  {
   "cell_type": "code",
   "execution_count": null,
   "metadata": {
    "vscode": {
     "languageId": "plaintext"
    }
   },
   "outputs": [],
   "source": [
    "from flask import Flask, request, jsonify\n",
    "\n",
    "app = Flask(__name__)\n",
    "\n",
    "@app.route('/feedback', methods=['POST'])\n",
    "def feedback():\n",
    "    recognized_text = request.json.get('recognized_text', \"\").strip().lower()\n",
    "    reference_phrase = request.json.get('reference_phrase', \"\").strip().lower()\n",
    "\n",
    "    # Word-by-word feedback\n",
    "    reference_words = reference_phrase.split()\n",
    "    recognized_words = recognized_text.split()\n",
    "    feedback = []\n",
    "\n",
    "    for ref_word, recog_word in zip(reference_words, recognized_words):\n",
    "        if ref_word == recog_word:\n",
    "            feedback.append(f\"Correct: '{recog_word}'\")\n",
    "        else:\n",
    "            feedback.append(f\"Incorrect: You said '{recog_word}', should be '{ref_word}'\")\n",
    "\n",
    "    # Extra/missing words\n",
    "    if len(reference_words) < len(recognized_words):\n",
    "        extra_words = recognized_words[len(reference_words):]\n",
    "        feedback.append(f\"Extra words: {' '.join(extra_words)}\")\n",
    "    elif len(reference_words) > len(recognized_words):\n",
    "        missing_words = reference_words[len(recognized_words):]\n",
    "        feedback.append(f\"Missing words: {' '.join(missing_words)}\")\n",
    "\n",
    "    match = recognized_text == reference_phrase\n",
    "    return jsonify({\"match\": match, \"feedback\": feedback})\n",
    "\n",
    "if __name__ == \"__main__\":\n",
    "    app.run(port=5003)\n"
   ]
  }
 ],
 "metadata": {
  "language_info": {
   "name": "python"
  }
 },
 "nbformat": 4,
 "nbformat_minor": 2
}
